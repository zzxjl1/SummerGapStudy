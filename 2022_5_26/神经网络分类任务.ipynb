{
 "cells": [
  {
   "cell_type": "markdown",
   "metadata": {},
   "source": [
    "### Mnist分类任务：\n",
    "\n",
    "- 网络基本构建与训练方法，常用函数解析\n",
    "\n",
    "- torch.nn.functional模块\n",
    "\n",
    "- nn.Module模块\n"
   ]
  },
  {
   "cell_type": "markdown",
   "metadata": {},
   "source": [
    "### 读取Mnist数据集\n",
    "- 会自动进行下载"
   ]
  },
  {
   "cell_type": "code",
   "execution_count": 2,
   "metadata": {
    "collapsed": true
   },
   "outputs": [],
   "source": [
    "%matplotlib inline"
   ]
  },
  {
   "cell_type": "code",
   "execution_count": null,
   "metadata": {
    "collapsed": true
   },
   "outputs": [],
   "source": [
    "from pathlib import Path\n",
    "import requests\n",
    "\n",
    "DATA_PATH = Path(\"data\")\n",
    "PATH = DATA_PATH / \"mnist\"\n",
    "\n",
    "PATH.mkdir(parents=True, exist_ok=True)\n",
    "\n",
    "URL = \"http://deeplearning.net/data/mnist/\"\n",
    "FILENAME = \"mnist.pkl.gz\"\n",
    "\n",
    "if not (PATH / FILENAME).exists():\n",
    "        content = requests.get(URL + FILENAME).content\n",
    "        (PATH / FILENAME).open(\"wb\").write(content)"
   ]
  },
  {
   "cell_type": "code",
   "execution_count": 5,
   "metadata": {
    "collapsed": true
   },
   "outputs": [],
   "source": [
    "import pickle\n",
    "import gzip\n",
    "\n",
    "with gzip.open((PATH / FILENAME).as_posix(), \"rb\") as f:\n",
    "        ((x_train, y_train), (x_valid, y_valid), _) = pickle.load(f, encoding=\"latin-1\")"
   ]
  },
  {
   "cell_type": "markdown",
   "metadata": {},
   "source": [
    "784是mnist数据集每个样本的像素点个数"
   ]
  },
  {
   "cell_type": "code",
   "execution_count": 11,
   "metadata": {},
   "outputs": [
    {
     "name": "stdout",
     "output_type": "stream",
     "text": [
      "(50000, 784)\n",
      "5\n"
     ]
    },
    {
     "data": {
      "image/png": "[encoded data removed]",
      "text/plain": [
       "<Figure size 432x288 with 1 Axes>"
      ]
     },
     "metadata": {
      "needs_background": "light"
     },
     "output_type": "display_data"
    }
   ],
   "source": [
    "from matplotlib import pyplot\n",
    "import numpy as np\n",
    "\n",
    "pyplot.imshow(x_train[0].reshape((28, 28)), cmap=\"gray\")\n",
    "print(x_train.shape)\n",
    "print(y_train[0])"
   ]
  },
  {
   "cell_type": "markdown",
   "metadata": {},
   "source": [
    "注意数据需转换成tensor才能参与后续建模训练\n"
   ]
  },
  {
   "cell_type": "code",
   "execution_count": 12,
   "metadata": {},
   "outputs": [
    {
     "name": "stdout",
     "output_type": "stream",
     "text": [
      "tensor([[0., 0., 0.,  ..., 0., 0., 0.],\n",
      "        [0., 0., 0.,  ..., 0., 0., 0.],\n",
      "        [0., 0., 0.,  ..., 0., 0., 0.],\n",
      "        ...,\n",
      "        [0., 0., 0.,  ..., 0., 0., 0.],\n",
      "        [0., 0., 0.,  ..., 0., 0., 0.],\n",
      "        [0., 0., 0.,  ..., 0., 0., 0.]]) tensor([5, 0, 4,  ..., 8, 4, 8])\n",
      "torch.Size([50000, 784])\n",
      "tensor(0) tensor(9)\n"
     ]
    }
   ],
   "source": [
    "import torch\n",
    "\n",
    "x_train, y_train, x_valid, y_valid = map(\n",
    "    torch.tensor, (x_train, y_train, x_valid, y_valid)\n",
    ")\n",
    "n, c = x_train.shape\n",
    "x_train, x_train.shape, y_train.min(), y_train.max()\n",
    "print(x_train, y_train)\n",
    "print(x_train.shape)\n",
    "print(y_train.min(), y_train.max())"
   ]
  },
  {
   "cell_type": "markdown",
   "metadata": {},
   "source": [
    "### torch.nn.functional 很多层和函数在这里都会见到\n",
    "\n",
    "torch.nn.functional中有很多功能，后续会常用的。那什么时候使用nn.Module，什么时候使用nn.functional呢？一般情况下，如果模型有可学习的参数，最好用nn.Module，其他情况nn.functional相对更简单一些"
   ]
  },
  {
   "cell_type": "code",
   "execution_count": 13,
   "metadata": {
    "collapsed": true
   },
   "outputs": [],
   "source": [
    "import torch.nn.functional as F\n",
    "\n",
    "loss_func = F.cross_entropy\n",
    "\n",
    "def model(xb):\n",
    "    return xb.mm(weights) + bias"
   ]
  },
  {
   "cell_type": "code",
   "execution_count": 18,
   "metadata": {},
   "outputs": [
    {
     "name": "stdout",
     "output_type": "stream",
     "text": [
      "tensor(12.2657, grad_fn=<NllLossBackward0>)\n"
     ]
    }
   ],
   "source": [
    "bs = 64\n",
    "xb = x_train[0:bs]  # a mini-batch from x\n",
    "yb = y_train[0:bs]\n",
    "weights = torch.randn([784, 10], dtype = torch.float,  requires_grad = True) \n",
    "bs = 64\n",
    "bias = torch.zeros(10, requires_grad=True)\n",
    "\n",
    "print(loss_func(model(xb), yb))"
   ]
  },
  {
   "cell_type": "markdown",
   "metadata": {},
   "source": [
    "### 创建一个model来更简化代码"
   ]
  },
  {
   "cell_type": "markdown",
   "metadata": {},
   "source": [
    "- 必须继承nn.Module且在其构造函数中需调用nn.Module的构造函数\n",
    "- 无需写反向传播函数，nn.Module能够利用autograd自动实现反向传播\n",
    "- Module中的可学习参数可以通过named_parameters()或者parameters()返回迭代器"
   ]
  },
  {
   "cell_type": "code",
   "execution_count": 14,
   "metadata": {
    "collapsed": true
   },
   "outputs": [],
   "source": [
    "from torch import nn\n",
    "\n",
    "class Mnist_NN(nn.Module):\n",
    "    def __init__(self):\n",
    "        super().__init__()\n",
    "        self.hidden1 = nn.Linear(784, 128)\n",
    "        self.hidden2 = nn.Linear(128, 256)\n",
    "        self.out  = nn.Linear(256, 10)\n",
    "\n",
    "    def forward(self, x):\n",
    "        x = F.relu(self.hidden1(x))\n",
    "        x = F.relu(self.hidden2(x))\n",
    "        x = self.out(x)\n",
    "        return x\n",
    "        "
   ]
  },
  {
   "cell_type": "code",
   "execution_count": 15,
   "metadata": {},
   "outputs": [
    {
     "name": "stdout",
     "output_type": "stream",
     "text": [
      "Mnist_NN(\n",
      "  (hidden1): Linear(in_features=784, out_features=128, bias=True)\n",
      "  (hidden2): Linear(in_features=128, out_features=256, bias=True)\n",
      "  (out): Linear(in_features=256, out_features=10, bias=True)\n",
      ")\n"
     ]
    }
   ],
   "source": [
    "net = Mnist_NN()\n",
    "print(net)\n"
   ]
  },
  {
   "cell_type": "markdown",
   "metadata": {},
   "source": [
    "可以打印我们定义好名字里的权重和偏置项"
   ]
  },
  {
   "cell_type": "code",
   "execution_count": 16,
   "metadata": {},
   "outputs": [
    {
     "name": "stdout",
     "output_type": "stream",
     "text": [
      "hidden1.weight Parameter containing:\n",
      "tensor([[ 0.0324,  0.0030,  0.0184,  ...,  0.0215,  0.0257, -0.0061],\n",
      "        [ 0.0096,  0.0326, -0.0067,  ..., -0.0135,  0.0112,  0.0225],\n",
      "        [-0.0289, -0.0136,  0.0181,  ..., -0.0064,  0.0344,  0.0057],\n",
      "        ...,\n",
      "        [-0.0344, -0.0198, -0.0321,  ..., -0.0020,  0.0025,  0.0259],\n",
      "        [ 0.0335, -0.0023, -0.0256,  ...,  0.0072,  0.0025,  0.0322],\n",
      "        [ 0.0262,  0.0292,  0.0305,  ..., -0.0090, -0.0210,  0.0316]],\n",
      "       requires_grad=True) torch.Size([128, 784])\n",
      "hidden1.bias Parameter containing:\n",
      "tensor([ 0.0002, -0.0181, -0.0115,  0.0013,  0.0100, -0.0241, -0.0066, -0.0123,\n",
      "        -0.0010, -0.0162,  0.0311, -0.0234, -0.0101, -0.0140,  0.0179,  0.0032,\n",
      "         0.0355, -0.0030,  0.0355,  0.0255, -0.0077, -0.0038, -0.0174, -0.0024,\n",
      "         0.0138,  0.0279, -0.0137,  0.0092,  0.0038,  0.0003, -0.0007,  0.0093,\n",
      "         0.0219, -0.0231,  0.0161, -0.0108,  0.0165, -0.0220,  0.0050, -0.0194,\n",
      "        -0.0134, -0.0216, -0.0008,  0.0349,  0.0263, -0.0099,  0.0350, -0.0289,\n",
      "         0.0296,  0.0313,  0.0097, -0.0333, -0.0223, -0.0202,  0.0341,  0.0057,\n",
      "        -0.0152,  0.0067, -0.0205, -0.0180,  0.0340, -0.0298,  0.0267, -0.0206,\n",
      "        -0.0142, -0.0103,  0.0344, -0.0111,  0.0167,  0.0166, -0.0024,  0.0295,\n",
      "        -0.0232, -0.0266, -0.0046, -0.0035, -0.0020,  0.0169,  0.0351,  0.0246,\n",
      "         0.0030, -0.0084, -0.0148,  0.0160, -0.0327,  0.0137,  0.0292, -0.0204,\n",
      "        -0.0265, -0.0176, -0.0055, -0.0001,  0.0121,  0.0045,  0.0254,  0.0217,\n",
      "         0.0264,  0.0044, -0.0132, -0.0202,  0.0335, -0.0130, -0.0018, -0.0164,\n",
      "         0.0063,  0.0125,  0.0306,  0.0217,  0.0320,  0.0034, -0.0309,  0.0155,\n",
      "         0.0268, -0.0066, -0.0018,  0.0354, -0.0088, -0.0089, -0.0152, -0.0006,\n",
      "         0.0073, -0.0057, -0.0328, -0.0110, -0.0054, -0.0032,  0.0209,  0.0260],\n",
      "       requires_grad=True) torch.Size([128])\n",
      "hidden2.weight Parameter containing:\n",
      "tensor([[ 0.0135,  0.0492,  0.0696,  ..., -0.0334,  0.0510,  0.0166],\n",
      "        [-0.0634,  0.0419, -0.0008,  ...,  0.0234, -0.0524, -0.0223],\n",
      "        [ 0.0102,  0.0230, -0.0447,  ..., -0.0706, -0.0128,  0.0448],\n",
      "        ...,\n",
      "        [ 0.0472,  0.0798,  0.0801,  ...,  0.0298, -0.0609,  0.0558],\n",
      "        [-0.0421,  0.0849,  0.0511,  ..., -0.0048, -0.0419,  0.0293],\n",
      "        [-0.0251,  0.0793, -0.0397,  ...,  0.0487,  0.0127, -0.0026]],\n",
      "       requires_grad=True) torch.Size([256, 128])\n",
      "hidden2.bias Parameter containing:\n",
      "tensor([ 0.0254,  0.0239,  0.0727,  0.0624, -0.0822, -0.0710, -0.0151, -0.0475,\n",
      "        -0.0359,  0.0868, -0.0391,  0.0269,  0.0731, -0.0396, -0.0110,  0.0511,\n",
      "        -0.0860, -0.0496, -0.0050,  0.0681, -0.0064, -0.0654, -0.0638,  0.0360,\n",
      "        -0.0479, -0.0185,  0.0869,  0.0479, -0.0449,  0.0252,  0.0027, -0.0453,\n",
      "        -0.0235, -0.0128,  0.0359,  0.0444, -0.0517, -0.0466, -0.0465,  0.0694,\n",
      "         0.0355, -0.0251,  0.0095, -0.0576, -0.0023, -0.0415,  0.0134, -0.0197,\n",
      "         0.0249,  0.0385, -0.0325, -0.0266,  0.0828,  0.0063,  0.0021,  0.0060,\n",
      "         0.0035,  0.0825, -0.0495,  0.0556,  0.0729,  0.0630, -0.0079, -0.0496,\n",
      "        -0.0542, -0.0155, -0.0329,  0.0846, -0.0682,  0.0307,  0.0613, -0.0322,\n",
      "        -0.0644, -0.0577, -0.0337,  0.0205,  0.0346,  0.0806,  0.0430, -0.0761,\n",
      "        -0.0267, -0.0223, -0.0042, -0.0372, -0.0311, -0.0233, -0.0764,  0.0625,\n",
      "         0.0137, -0.0738,  0.0723,  0.0564, -0.0141,  0.0863,  0.0577,  0.0062,\n",
      "         0.0524, -0.0579, -0.0246,  0.0852,  0.0788,  0.0533, -0.0342,  0.0503,\n",
      "         0.0065, -0.0742,  0.0037, -0.0739,  0.0458, -0.0701,  0.0079,  0.0297,\n",
      "         0.0489,  0.0623, -0.0226,  0.0195,  0.0805,  0.0388,  0.0878, -0.0841,\n",
      "         0.0543, -0.0375,  0.0456, -0.0111,  0.0781,  0.0085, -0.0752,  0.0076,\n",
      "        -0.0712, -0.0278, -0.0354, -0.0211,  0.0625,  0.0846,  0.0269,  0.0480,\n",
      "        -0.0154,  0.0262,  0.0790,  0.0698, -0.0369,  0.0443,  0.0821, -0.0341,\n",
      "         0.0004, -0.0628,  0.0222, -0.0519, -0.0875,  0.0378,  0.0817,  0.0543,\n",
      "         0.0049, -0.0022,  0.0637,  0.0551, -0.0618,  0.0795, -0.0535, -0.0394,\n",
      "         0.0715, -0.0789, -0.0208, -0.0373,  0.0665, -0.0069,  0.0588, -0.0034,\n",
      "         0.0083, -0.0709,  0.0484, -0.0184,  0.0843,  0.0267,  0.0830,  0.0174,\n",
      "         0.0825, -0.0476,  0.0840,  0.0515, -0.0248,  0.0698, -0.0509, -0.0142,\n",
      "         0.0694,  0.0007, -0.0258, -0.0600, -0.0142, -0.0481, -0.0239, -0.0608,\n",
      "        -0.0372, -0.0453, -0.0798,  0.0210, -0.0716,  0.0539, -0.0675, -0.0689,\n",
      "         0.0672,  0.0245,  0.0399, -0.0694,  0.0729,  0.0281,  0.0373,  0.0715,\n",
      "        -0.0617, -0.0480,  0.0299, -0.0556,  0.0004, -0.0214,  0.0624, -0.0067,\n",
      "        -0.0278, -0.0284, -0.0464, -0.0446, -0.0761, -0.0424,  0.0745,  0.0639,\n",
      "        -0.0011,  0.0409,  0.0121, -0.0723, -0.0186, -0.0616, -0.0755, -0.0487,\n",
      "        -0.0032,  0.0180, -0.0190, -0.0434, -0.0267, -0.0165, -0.0539, -0.0616,\n",
      "        -0.0406,  0.0505, -0.0685,  0.0435, -0.0789,  0.0393,  0.0277,  0.0822,\n",
      "         0.0423,  0.0534,  0.0123,  0.0510, -0.0797,  0.0298, -0.0404, -0.0843],\n",
      "       requires_grad=True) torch.Size([256])\n",
      "out.weight Parameter containing:\n",
      "tensor([[-2.9720e-02,  9.7980e-03,  4.8929e-02,  ...,  1.7418e-02,\n",
      "         -5.6490e-02, -2.0754e-02],\n",
      "        [-4.9812e-02,  5.6776e-02, -3.5155e-02,  ...,  3.8361e-02,\n",
      "         -2.1368e-02, -1.0161e-02],\n",
      "        [-1.8039e-02,  5.2825e-02,  8.1090e-04,  ...,  1.4429e-02,\n",
      "          2.0943e-02,  2.8442e-02],\n",
      "        ...,\n",
      "        [-3.3365e-02, -8.3841e-03,  5.0097e-02,  ...,  8.6426e-03,\n",
      "          1.6606e-02,  5.8255e-02],\n",
      "        [-3.8798e-02,  5.1278e-02,  2.6442e-05,  ..., -1.4650e-02,\n",
      "          3.6982e-02, -2.1225e-02],\n",
      "        [ 9.1570e-03,  5.7973e-02,  4.3041e-02,  ...,  4.7470e-02,\n",
      "          4.7167e-03, -4.6048e-02]], requires_grad=True) torch.Size([10, 256])\n",
      "out.bias Parameter containing:\n",
      "tensor([-0.0576, -0.0126, -0.0391, -0.0052,  0.0299,  0.0570, -0.0523, -0.0363,\n",
      "         0.0200, -0.0067], requires_grad=True) torch.Size([10])\n"
     ]
    }
   ],
   "source": [
    "for name, parameter in net.named_parameters():\n",
    "    print(name, parameter,parameter.size())"
   ]
  },
  {
   "cell_type": "markdown",
   "metadata": {},
   "source": [
    "### 使用TensorDataset和DataLoader来简化"
   ]
  },
  {
   "cell_type": "code",
   "execution_count": 19,
   "metadata": {
    "collapsed": true
   },
   "outputs": [],
   "source": [
    "from torch.utils.data import TensorDataset\n",
    "from torch.utils.data import DataLoader\n",
    "\n",
    "train_ds = TensorDataset(x_train, y_train)\n",
    "train_dl = DataLoader(train_ds, batch_size=bs, shuffle=True)\n",
    "\n",
    "valid_ds = TensorDataset(x_valid, y_valid)\n",
    "valid_dl = DataLoader(valid_ds, batch_size=bs * 2)"
   ]
  },
  {
   "cell_type": "code",
   "execution_count": 20,
   "metadata": {
    "collapsed": true
   },
   "outputs": [],
   "source": [
    "def get_data(train_ds, valid_ds, bs):\n",
    "    return (\n",
    "        DataLoader(train_ds, batch_size=bs, shuffle=True),\n",
    "        DataLoader(valid_ds, batch_size=bs * 2),\n",
    "    )"
   ]
  },
  {
   "cell_type": "markdown",
   "metadata": {},
   "source": [
    "- 一般在训练模型时加上model.train()，这样会正常使用Batch Normalization和 Dropout\n",
    "- 测试的时候一般选择model.eval()，这样就不会使用Batch Normalization和 Dropout"
   ]
  },
  {
   "cell_type": "code",
   "execution_count": 21,
   "metadata": {
    "collapsed": true
   },
   "outputs": [],
   "source": [
    "import numpy as np\n",
    "\n",
    "def fit(steps, model, loss_func, opt, train_dl, valid_dl):\n",
    "    for step in range(steps):\n",
    "        model.train()\n",
    "        for xb, yb in train_dl:\n",
    "            loss_batch(model, loss_func, xb, yb, opt)\n",
    "\n",
    "        model.eval()\n",
    "        with torch.no_grad():\n",
    "            losses, nums = zip(\n",
    "                *[loss_batch(model, loss_func, xb, yb) for xb, yb in valid_dl]\n",
    "            )\n",
    "        val_loss = np.sum(np.multiply(losses, nums)) / np.sum(nums)\n",
    "        print('当前step:'+str(step), '验证集损失：'+str(val_loss))"
   ]
  },
  {
   "cell_type": "code",
   "execution_count": 22,
   "metadata": {
    "collapsed": true
   },
   "outputs": [],
   "source": [
    "from torch import optim\n",
    "def get_model():\n",
    "    model = Mnist_NN()\n",
    "    return model, optim.SGD(model.parameters(), lr=0.001)"
   ]
  },
  {
   "cell_type": "code",
   "execution_count": 23,
   "metadata": {
    "collapsed": true
   },
   "outputs": [],
   "source": [
    "def loss_batch(model, loss_func, xb, yb, opt=None):\n",
    "    loss = loss_func(model(xb), yb)\n",
    "\n",
    "    if opt is not None:\n",
    "        loss.backward()\n",
    "        opt.step()\n",
    "        opt.zero_grad()\n",
    "\n",
    "    return loss.item(), len(xb)"
   ]
  },
  {
   "cell_type": "markdown",
   "metadata": {},
   "source": [
    "### 三行搞定！"
   ]
  },
  {
   "cell_type": "code",
   "execution_count": 24,
   "metadata": {},
   "outputs": [
    {
     "name": "stdout",
     "output_type": "stream",
     "text": [
      "当前step:0 验证集损失：2.281420397567749\n",
      "当前step:1 验证集损失：2.251999032211304\n",
      "当前step:2 验证集损失：2.205302934265137\n",
      "当前step:3 验证集损失：2.1274710468292235\n",
      "当前step:4 验证集损失：2.000798610305786\n",
      "当前step:5 验证集损失：1.8080479150772095\n",
      "当前step:6 验证集损失：1.552802353477478\n",
      "当前step:7 验证集损失：1.289136668586731\n",
      "当前step:8 验证集损失：1.0758441564559937\n",
      "当前step:9 验证集损失：0.9204948238372803\n",
      "当前step:10 验证集损失：0.808637120437622\n",
      "当前step:11 验证集损失：0.7245394794464112\n",
      "当前step:12 验证集损失：0.6597387674331665\n",
      "当前step:13 验证集损失：0.6087180676460267\n",
      "当前step:14 验证集损失：0.5672475024223328\n",
      "当前step:15 验证集损失：0.5329348666667938\n",
      "当前step:16 验证集损失：0.5044695672512054\n",
      "当前step:17 验证集损失：0.4808740779399872\n",
      "当前step:18 验证集损失：0.46069016160964965\n",
      "当前step:19 验证集损失：0.4435046859264374\n",
      "当前step:20 验证集损失：0.4282842843055725\n",
      "当前step:21 验证集损失：0.41539084753990174\n",
      "当前step:22 验证集损失：0.40365223698616026\n",
      "当前step:23 验证集损失：0.3936210869073868\n",
      "当前step:24 验证集损失：0.3844073879241943\n"
     ]
    }
   ],
   "source": [
    "train_dl, valid_dl = get_data(train_ds, valid_ds, bs)\n",
    "model, opt = get_model()\n",
    "fit(25, model, loss_func, opt, train_dl, valid_dl)"
   ]
  },
  {
   "cell_type": "code",
   "execution_count": null,
   "metadata": {
    "collapsed": true
   },
   "outputs": [],
   "source": []
  }
 ],
 "metadata": {
  "interpreter": {
   "hash": "3cc5292bf5c830798e60369264793d4ad446af4d95064df5045c9e5f7d07eceb"
  },
  "kernelspec": {
   "display_name": "Python 3.9.9 64-bit",
   "language": "python",
   "name": "python3"
  },
  "language_info": {
   "codemirror_mode": {
    "name": "ipython",
    "version": 3
   },
   "file_extension": ".py",
   "mimetype": "text/x-python",
   "name": "python",
   "nbconvert_exporter": "python",
   "pygments_lexer": "ipython3",
   "version": "3.9.9"
  }
 },
 "nbformat": 4,
 "nbformat_minor": 1
}
